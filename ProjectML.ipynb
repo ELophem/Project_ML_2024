{
 "cells": [
  {
   "cell_type": "code",
   "execution_count": 117,
   "id": "25d8453e",
   "metadata": {},
   "outputs": [
    {
     "name": "stdout",
     "output_type": "stream",
     "text": [
      "Requirement already satisfied: scikit-learn in c:\\users\\admin\\appdata\\local\\programs\\python\\python38\\lib\\site-packages (1.3.2)\n",
      "Requirement already satisfied: numpy<2.0,>=1.17.3 in c:\\users\\admin\\appdata\\local\\programs\\python\\python38\\lib\\site-packages (from scikit-learn) (1.23.5)\n",
      "Requirement already satisfied: scipy>=1.5.0 in c:\\users\\admin\\appdata\\local\\programs\\python\\python38\\lib\\site-packages (from scikit-learn) (1.10.1)\n",
      "Requirement already satisfied: joblib>=1.1.1 in c:\\users\\admin\\appdata\\local\\programs\\python\\python38\\lib\\site-packages (from scikit-learn) (1.4.0)\n",
      "Requirement already satisfied: threadpoolctl>=2.0.0 in c:\\users\\admin\\appdata\\local\\programs\\python\\python38\\lib\\site-packages (from scikit-learn) (3.5.0)\n",
      "Note: you may need to restart the kernel to use updated packages.\n"
     ]
    },
    {
     "name": "stderr",
     "output_type": "stream",
     "text": [
      "\n",
      "[notice] A new release of pip is available: 23.3.2 -> 24.0\n",
      "[notice] To update, run: python.exe -m pip install --upgrade pip\n"
     ]
    }
   ],
   "source": [
    "%pip install scikit-learn"
   ]
  },
  {
   "cell_type": "code",
   "execution_count": 118,
   "id": "763da354-f2cf-4bad-bacb-f3cacc200aba",
   "metadata": {},
   "source": [
    "## Imports "
   ]
  },
  {
   "cell_type": "code",
   "execution_count": 1,
   "id": "87d17596",
   "metadata": {},
   "outputs": [],
   "source": [
    "import pandas as pd\n",
    "from sklearn.ensemble import RandomForestRegressor\n",
    "from sklearn.model_selection import cross_val_score\n",
    "from sklearn.metrics import mean_absolute_error\n",
    "from sklearn.model_selection import train_test_split\n",
    "from sklearn.impute import SimpleImputer\n",
    "from sklearn.preprocessing import OneHotEncoder\n"
   ]
  },
  {
   "cell_type": "markdown",
   "id": "8008ba45",
   "metadata": {},
   "source": [
    "## Read Data"
   ]
  },
  {
   "cell_type": "code",
   "execution_count": 2,
   "id": "ca9871ce",
   "metadata": {},
   "outputs": [
    {
     "name": "stdout",
     "output_type": "stream",
     "text": [
      "Median Investment (excluding NaN): 14800000.0\n",
      "Median Investment: 14800000.0\n",
      "Mean Investment: 28984658.08825526\n",
      "Minimum Investment: 0.0\n",
      "Maximum Investment: 380000000.0\n",
      "Ratio of min to median: 0.0\n",
      "Median Vote (excluding NaN): 6.2\n",
      "Mean Vote: 6.090353920888272\n",
      "Median Revenue (excluding NaN): 19184015.0\n",
      "Mean Revenue: 82314862.62060988\n",
      "Minimum Revenue: 0.0\n",
      "Maximum Revenue: 2787965087.0\n",
      "Ratio of min to median: 145.32750766719062\n"
     ]
    }
   ],
   "source": [
    "import pandas as pd\n",
    "import numpy as np\n",
    "import numpy as np\n",
    "from sklearn.preprocessing import MultiLabelBinarizer\n",
    "import json\n",
    "data_file_path = 'Dataset.csv'\n",
    "data_read = pd.read_csv(data_file_path)\n",
    "# data_read.head()\n",
    "row_with_nan = data_read[data_read['original_language'].isna() ]\n",
    "row_with_nan\n",
    "nan_vote_data = data_read[data_read['vote_average'].isna()]\n",
    "# nan_vote_data.head()\n",
    "nan_investment_data = data_read[data_read['financial_investment'].isna()]\n",
    "nan_investment_data\n",
    "mean_investment = data_read['financial_investment'].mean()\n",
    "min_investment = data_read['financial_investment'].min()\n",
    "max_investment = data_read['financial_investment'].max()\n",
    "median_investment = np.nanmedian(data_read['financial_investment'])\n",
    "print(\"Median Investment (excluding NaN):\", median_investment)\n",
    "print(\"Median Investment:\", median_investment)\n",
    "\n",
    "print(\"Mean Investment:\", mean_investment)\n",
    "print(\"Minimum Investment:\", min_investment)\n",
    "print(\"Maximum Investment:\", max_investment)\n",
    "print(\"Ratio of min to median:\", min_investment/median_investment)\n",
    "median_vote = np.nanmedian(data_read['vote_average'])\n",
    "print(\"Median Vote (excluding NaN):\", median_vote)\n",
    "mean_vote = data_read['vote_average'].mean()\n",
    "print(\"Mean Vote:\", mean_vote)\n",
    "\n",
    "min_revenue = data_read['revenue'].min()\n",
    "max_revenue = data_read['revenue'].max()\n",
    "median_revenue = np.nanmedian(data_read['revenue'])\n",
    "print(\"Median Revenue (excluding NaN):\", median_revenue)\n",
    "print(\"Mean Revenue:\", data_read['revenue'].mean())\n",
    "print(\"Minimum Revenue:\", min_revenue)\n",
    "print(\"Maximum Revenue:\", max_revenue)\n",
    "print(\"Ratio of min to median:\", max_revenue/median_revenue)\n",
    "data_read['production'] = data_read['production'].apply(json.loads)\n",
    "production_names = set()\n",
    "\n",
    "\n",
    "\n",
    "\n",
    "\n",
    "\n",
    "\n",
    "\n",
    "\n",
    "\n"
   ]
  },
  {
   "cell_type": "code",
   "execution_count": 119,
   "id": "c6d6e076",
   "metadata": {},
   "outputs": [
    {
     "data": {
      "text/plain": [
       "0    2009-12-10\n",
       "1    2007-05-19\n",
       "2    2015-10-26\n",
       "3    2012-07-16\n",
       "4    2012-03-07\n",
       "Name: release, dtype: object"
      ]
     },
     "execution_count": 119,
     "metadata": {},
     "output_type": "execute_result"
    }
   ],
   "source": [
    "# There is one missing release date. We looked it up and it is 2022-06-10\n",
    "data_read['release'] = data_read['release'].fillna('2022-06-10')\n",
    "\n",
    "# data_read['release'] = pd.to_datetime(data_read['release'])\n",
    "data_read['release'].head()"
   ]
  },
  {
   "cell_type": "code",
   "execution_count": 120,
   "id": "b73b87a2-006c-416e-8949-0a6db4ca243a",
   "metadata": {},
   "outputs": [
    {
     "name": "stdout",
     "output_type": "stream",
     "text": [
      "[{'id': 28, 'name': 'Action'}, {'id': 12, 'name': 'Adventure'}, {'id': 14, 'name': 'Fantasy'}, {'id': 878, 'name': 'Science Fiction'}]\n",
      "      Unnamed: 0  vote_count  vote_average    status spoken_languages  \\\n",
      "492          492           9           5.3  Released               []   \n",
      "1169        1169         787           6.8  Released               []   \n",
      "2590        2590          25           5.9  Released               []   \n",
      "2614        2614           3           4.7  Released               []   \n",
      "2631        2631          12           7.0  Released               []   \n",
      "...          ...         ...           ...       ...              ...   \n",
      "4780        4780           0           0.0  Released               []   \n",
      "4784        4784          15           6.2  Released               []   \n",
      "4793        4793           2           6.0  Released               []   \n",
      "4797        4797           2           7.5  Released               []   \n",
      "4799        4799           5           5.9  Released               []   \n",
      "\n",
      "      duration     revenue     release  popularity original_language  \\\n",
      "492       89.0         0.0  2015-10-30    0.719996                es   \n",
      "1169     128.0  95020213.0  2013-04-12   31.884559                en   \n",
      "2590      85.0         0.0  2008-01-11    1.800119                en   \n",
      "2614      98.0         0.0  1998-02-01    0.116873                en   \n",
      "2631     276.0         0.0  2007-08-05    1.485324                en   \n",
      "...        ...         ...         ...         ...               ...   \n",
      "4780      90.0         0.0  2015-10-02    0.038143                en   \n",
      "4784      85.0         0.0  2005-01-17    1.243955                en   \n",
      "4793      90.0         0.0  2004-04-11    0.029757                en   \n",
      "4797      80.0         0.0  2005-03-12    0.022173                en   \n",
      "4799      85.0         0.0  2011-12-26    0.642552                en   \n",
      "\n",
      "                                                 genres  financial_investment  \n",
      "492   [{'id': 35, 'name': 'Comedy'}, {'id': 16, 'nam...                   NaN  \n",
      "1169                      [{'id': 18, 'name': 'Drama'}]            40000000.0  \n",
      "2590  [{'id': 12, 'name': 'Adventure'}, {'id': 16, '...                   0.0  \n",
      "2614  [{'id': 35, 'name': 'Comedy'}, {'id': 18, 'nam...                   0.0  \n",
      "2631                      [{'id': 18, 'name': 'Drama'}]                   0.0  \n",
      "...                                                 ...                   ...  \n",
      "4780  [{'id': 53, 'name': 'Thriller'}, {'id': 80, 'n...                   0.0  \n",
      "4784  [{'id': 18, 'name': 'Drama'}, {'id': 35, 'name...                   0.0  \n",
      "4793                      [{'id': 18, 'name': 'Drama'}]                   NaN  \n",
      "4797  [{'id': 10769, 'name': 'Foreign'}, {'id': 53, ...                   0.0  \n",
      "4799  [{'id': 35, 'name': 'Comedy'}, {'id': 10749, '...                   NaN  \n",
      "\n",
      "[86 rows x 12 columns]\n"
     ]
    }
   ],
   "source": [
    "data_read.drop(['title', 'id', 'tagline', 'overview', 'homepage', 'keywords', 'countries_of_production', 'original_title', 'production'], axis=1, inplace=True)\n",
    "data_read.head()\n",
    "data_read['spoken_languages'] = data_read['spoken_languages'].apply(json.loads)\n",
    "data_read['genres'] = data_read['genres'].apply(json.loads)\n",
    "print(data_read['genres'][0])\n",
    "data_read['spoken_languages'][0]\n",
    "empty_spoken_languages = data_read[data_read['spoken_languages'].apply(lambda x: len(x) == 0)]\n",
    "print(empty_spoken_languages)\n"
   ]
  },
  {
   "cell_type": "code",
   "execution_count": 130,
   "id": "38fe4355",
   "metadata": {},
   "outputs": [
    {
     "data": {
      "text/plain": [
       "str"
      ]
     },
     "execution_count": 130,
     "metadata": {},
     "output_type": "execute_result"
    }
   ],
   "source": [
    "data_read['original_language'] \n",
    "type(data_read['original_language'][0])"
   ]
  },
  {
   "cell_type": "code",
   "execution_count": 134,
   "id": "cdbbc732",
   "metadata": {},
   "outputs": [
    {
     "name": "stdout",
     "output_type": "stream",
     "text": [
      "en\n",
      "en\n",
      "en\n"
     ]
    },
    {
     "data": {
      "text/plain": [
       "0"
      ]
     },
     "execution_count": 134,
     "metadata": {},
     "output_type": "execute_result"
    }
   ],
   "source": [
    "# Filling the missing values in the original_language column with the first spoken language if there is one\n",
    "def get_spoken_language_of_NaN(x):\n",
    "    if pd.isna(x['original_language']):\n",
    "        if x['spoken_languages'].__len__() == 0:\n",
    "            x['original_language'] = \"en\"\n",
    "            print(x['original_language'])\n",
    "            x['spoken_languages'] = [{'iso_639_1': 'en'}]\n",
    "        else:\n",
    "            x['original_language'] = x['spoken_languages'][0]['iso_639_1']\n",
    "    #     x['original_language'] = x['spoken_languages'][0]['iso_639_1']\n",
    "    return x\n",
    "data_read = data_read.apply(get_spoken_language_of_NaN, axis=1)\n",
    "data_read['original_language'].isna().sum()"
   ]
  },
  {
   "cell_type": "code",
   "execution_count": 58,
   "id": "a78b7392-7ffa-4c0e-b7fc-9490a03d5436",
   "metadata": {},
   "outputs": [
    {
     "data": {
      "text/plain": [
       "0    2\n",
       "1    1\n",
       "2    5\n",
       "3    1\n",
       "4    1\n",
       "Name: spoken_languages, dtype: int64"
      ]
     },
     "execution_count": 58,
     "metadata": {},
     "output_type": "execute_result"
    }
   ],
   "source": [
    "# Replaced spoken_languages with the number of languages spoken\n",
    "data_read['spoken_languages'] = data_read['spoken_languages'].apply(lambda x: len(x))\n",
    "data_read['spoken_languages'].head()"
   ]
  },
  {
   "cell_type": "code",
   "execution_count": 59,
   "id": "9ec87fd1",
   "metadata": {},
   "outputs": [
    {
     "name": "stdout",
     "output_type": "stream",
     "text": [
      "[{'id': 28, 'name': 'Action'}, {'id': 12, 'name': 'Adventure'}, {'id': 14, 'name': 'Fantasy'}, {'id': 878, 'name': 'Science Fiction'}]\n"
     ]
    },
    {
     "data": {
      "text/html": [
       "<div>\n",
       "<style scoped>\n",
       "    .dataframe tbody tr th:only-of-type {\n",
       "        vertical-align: middle;\n",
       "    }\n",
       "\n",
       "    .dataframe tbody tr th {\n",
       "        vertical-align: top;\n",
       "    }\n",
       "\n",
       "    .dataframe thead th {\n",
       "        text-align: right;\n",
       "    }\n",
       "</style>\n",
       "<table border=\"1\" class=\"dataframe\">\n",
       "  <thead>\n",
       "    <tr style=\"text-align: right;\">\n",
       "      <th></th>\n",
       "      <th>Unnamed: 0</th>\n",
       "      <th>vote_count</th>\n",
       "      <th>vote_average</th>\n",
       "      <th>status</th>\n",
       "      <th>spoken_languages</th>\n",
       "      <th>duration</th>\n",
       "      <th>revenue</th>\n",
       "      <th>release</th>\n",
       "      <th>popularity</th>\n",
       "      <th>original_language</th>\n",
       "      <th>...</th>\n",
       "      <th>History</th>\n",
       "      <th>Horror</th>\n",
       "      <th>Music</th>\n",
       "      <th>Mystery</th>\n",
       "      <th>Romance</th>\n",
       "      <th>Science Fiction</th>\n",
       "      <th>TV Movie</th>\n",
       "      <th>Thriller</th>\n",
       "      <th>War</th>\n",
       "      <th>Western</th>\n",
       "    </tr>\n",
       "  </thead>\n",
       "  <tbody>\n",
       "    <tr>\n",
       "      <th>0</th>\n",
       "      <td>0</td>\n",
       "      <td>11800</td>\n",
       "      <td>7.2</td>\n",
       "      <td>Released</td>\n",
       "      <td>2</td>\n",
       "      <td>162.0</td>\n",
       "      <td>2.787965e+09</td>\n",
       "      <td>2009-12-10</td>\n",
       "      <td>150.437577</td>\n",
       "      <td>en</td>\n",
       "      <td>...</td>\n",
       "      <td>0</td>\n",
       "      <td>0</td>\n",
       "      <td>0</td>\n",
       "      <td>0</td>\n",
       "      <td>0</td>\n",
       "      <td>1</td>\n",
       "      <td>0</td>\n",
       "      <td>0</td>\n",
       "      <td>0</td>\n",
       "      <td>0</td>\n",
       "    </tr>\n",
       "    <tr>\n",
       "      <th>1</th>\n",
       "      <td>1</td>\n",
       "      <td>4500</td>\n",
       "      <td>6.9</td>\n",
       "      <td>Released</td>\n",
       "      <td>1</td>\n",
       "      <td>169.0</td>\n",
       "      <td>9.610000e+08</td>\n",
       "      <td>2007-05-19</td>\n",
       "      <td>139.082615</td>\n",
       "      <td>en</td>\n",
       "      <td>...</td>\n",
       "      <td>0</td>\n",
       "      <td>0</td>\n",
       "      <td>0</td>\n",
       "      <td>0</td>\n",
       "      <td>0</td>\n",
       "      <td>0</td>\n",
       "      <td>0</td>\n",
       "      <td>0</td>\n",
       "      <td>0</td>\n",
       "      <td>0</td>\n",
       "    </tr>\n",
       "    <tr>\n",
       "      <th>2</th>\n",
       "      <td>2</td>\n",
       "      <td>4466</td>\n",
       "      <td>6.3</td>\n",
       "      <td>Released</td>\n",
       "      <td>5</td>\n",
       "      <td>148.0</td>\n",
       "      <td>8.806746e+08</td>\n",
       "      <td>2015-10-26</td>\n",
       "      <td>107.376788</td>\n",
       "      <td>en</td>\n",
       "      <td>...</td>\n",
       "      <td>0</td>\n",
       "      <td>0</td>\n",
       "      <td>0</td>\n",
       "      <td>0</td>\n",
       "      <td>0</td>\n",
       "      <td>0</td>\n",
       "      <td>0</td>\n",
       "      <td>0</td>\n",
       "      <td>0</td>\n",
       "      <td>0</td>\n",
       "    </tr>\n",
       "    <tr>\n",
       "      <th>3</th>\n",
       "      <td>3</td>\n",
       "      <td>9106</td>\n",
       "      <td>7.6</td>\n",
       "      <td>Released</td>\n",
       "      <td>1</td>\n",
       "      <td>165.0</td>\n",
       "      <td>1.084939e+09</td>\n",
       "      <td>2012-07-16</td>\n",
       "      <td>112.312950</td>\n",
       "      <td>en</td>\n",
       "      <td>...</td>\n",
       "      <td>0</td>\n",
       "      <td>0</td>\n",
       "      <td>0</td>\n",
       "      <td>0</td>\n",
       "      <td>0</td>\n",
       "      <td>0</td>\n",
       "      <td>0</td>\n",
       "      <td>1</td>\n",
       "      <td>0</td>\n",
       "      <td>0</td>\n",
       "    </tr>\n",
       "    <tr>\n",
       "      <th>4</th>\n",
       "      <td>4</td>\n",
       "      <td>2124</td>\n",
       "      <td>6.1</td>\n",
       "      <td>Released</td>\n",
       "      <td>1</td>\n",
       "      <td>132.0</td>\n",
       "      <td>2.841391e+08</td>\n",
       "      <td>2012-03-07</td>\n",
       "      <td>43.926995</td>\n",
       "      <td>en</td>\n",
       "      <td>...</td>\n",
       "      <td>0</td>\n",
       "      <td>0</td>\n",
       "      <td>0</td>\n",
       "      <td>0</td>\n",
       "      <td>0</td>\n",
       "      <td>1</td>\n",
       "      <td>0</td>\n",
       "      <td>0</td>\n",
       "      <td>0</td>\n",
       "      <td>0</td>\n",
       "    </tr>\n",
       "  </tbody>\n",
       "</table>\n",
       "<p>5 rows × 32 columns</p>\n",
       "</div>"
      ],
      "text/plain": [
       "   Unnamed: 0  vote_count  vote_average    status  spoken_languages  duration  \\\n",
       "0           0       11800           7.2  Released                 2     162.0   \n",
       "1           1        4500           6.9  Released                 1     169.0   \n",
       "2           2        4466           6.3  Released                 5     148.0   \n",
       "3           3        9106           7.6  Released                 1     165.0   \n",
       "4           4        2124           6.1  Released                 1     132.0   \n",
       "\n",
       "        revenue     release  popularity original_language  ... History  \\\n",
       "0  2.787965e+09  2009-12-10  150.437577                en  ...       0   \n",
       "1  9.610000e+08  2007-05-19  139.082615                en  ...       0   \n",
       "2  8.806746e+08  2015-10-26  107.376788                en  ...       0   \n",
       "3  1.084939e+09  2012-07-16  112.312950                en  ...       0   \n",
       "4  2.841391e+08  2012-03-07   43.926995                en  ...       0   \n",
       "\n",
       "   Horror  Music  Mystery  Romance  Science Fiction  TV Movie  Thriller  War  \\\n",
       "0       0      0        0        0                1         0         0    0   \n",
       "1       0      0        0        0                0         0         0    0   \n",
       "2       0      0        0        0                0         0         0    0   \n",
       "3       0      0        0        0                0         0         1    0   \n",
       "4       0      0        0        0                1         0         0    0   \n",
       "\n",
       "   Western  \n",
       "0        0  \n",
       "1        0  \n",
       "2        0  \n",
       "3        0  \n",
       "4        0  \n",
       "\n",
       "[5 rows x 32 columns]"
      ]
     },
     "execution_count": 59,
     "metadata": {},
     "output_type": "execute_result"
    }
   ],
   "source": [
    "mlb = MultiLabelBinarizer()\n",
    "def extract_genres(x):\n",
    "    genres = set()\n",
    "    for i in x:\n",
    "        genres.add(i['name'])\n",
    "    return genres\n",
    "\n",
    "encoded_genres = mlb.fit_transform(data_read['genres'].apply(extract_genres))\n",
    "print(data_read['genres'][0])\n",
    "list(mlb.classes_)\n",
    "encoded_genres_df = pd.DataFrame(encoded_genres, columns=mlb.classes_)\n",
    "data_read = pd.concat([data_read, encoded_genres_df], axis=1)\n",
    "data_read.head()"
   ]
  },
  {
   "cell_type": "code",
   "execution_count": 61,
   "id": "8d6fd868",
   "metadata": {},
   "outputs": [
    {
     "name": "stdout",
     "output_type": "stream",
     "text": [
      "['original_language']\n"
     ]
    }
   ],
   "source": [
    "# Replace NaN in 'vote_average' column with mean\n",
    "data_read['vote_average'].fillna(data_read['vote_average'].mean(), inplace=True)\n",
    "\n",
    "# Replace NaN in 'duration' column with mean\n",
    "data_read['duration'].fillna(data_read['duration'].mean(), inplace=True)\n",
    "\n",
    "# Replace NaN in 'financial_investment' column with median\n",
    "data_read['financial_investment'].fillna(median_investment, inplace=True)\n",
    "\n",
    "# Replace NaN in 'revenue' column with median\n",
    "data_read['revenue'].fillna(median_revenue, inplace=True)\n",
    "\n",
    "\n",
    "data_read.head()\n",
    "nan_columns = data_read.columns[data_read.isna().any()].tolist()\n",
    "print(nan_columns)\n"
   ]
  }
 ],
 "metadata": {
  "kernelspec": {
   "display_name": "Python 3",
   "language": "python",
   "name": "python3"
  },
  "language_info": {
   "codemirror_mode": {
    "name": "ipython",
    "version": 3
   },
   "file_extension": ".py",
   "mimetype": "text/x-python",
   "name": "python",
   "nbconvert_exporter": "python",
   "pygments_lexer": "ipython3",
   "version": "3.8.2"
  }
 },
 "nbformat": 4,
 "nbformat_minor": 5
}
